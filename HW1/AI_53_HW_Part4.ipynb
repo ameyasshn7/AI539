{
  "nbformat": 4,
  "nbformat_minor": 0,
  "metadata": {
    "colab": {
      "provenance": []
    },
    "kernelspec": {
      "name": "python3",
      "display_name": "Python 3"
    },
    "language_info": {
      "name": "python"
    }
  },
  "cells": [
    {
      "cell_type": "code",
      "execution_count": 1,
      "metadata": {
        "colab": {
          "base_uri": "https://localhost:8080/"
        },
        "id": "-WmPgwuoqlRI",
        "outputId": "2957a1e8-0b28-49c3-8d08-a16c34f70cc6"
      },
      "outputs": [
        {
          "output_type": "stream",
          "name": "stdout",
          "text": [
            "Requirement already satisfied: gensim in /usr/local/lib/python3.10/dist-packages (4.3.2)\n",
            "Requirement already satisfied: numpy>=1.18.5 in /usr/local/lib/python3.10/dist-packages (from gensim) (1.25.2)\n",
            "Requirement already satisfied: scipy>=1.7.0 in /usr/local/lib/python3.10/dist-packages (from gensim) (1.11.4)\n",
            "Requirement already satisfied: smart-open>=1.8.1 in /usr/local/lib/python3.10/dist-packages (from gensim) (6.4.0)\n",
            "\u001b[31mERROR: Operation cancelled by user\u001b[0m\u001b[31m\n",
            "\u001b[0m"
          ]
        }
      ],
      "source": [
        "!pip install gensim"
      ]
    },
    {
      "cell_type": "code",
      "source": [
        "import gensim.downloader"
      ],
      "metadata": {
        "id": "oZoyIH_tqret"
      },
      "execution_count": 7,
      "outputs": []
    },
    {
      "cell_type": "code",
      "source": [
        "w2v = gensim.downloader.load('word2vec-google-news-300')"
      ],
      "metadata": {
        "colab": {
          "base_uri": "https://localhost:8080/"
        },
        "id": "ojZEmPaRrIzq",
        "outputId": "c11d2012-5f1e-4a09-ccd8-204d97255bfd"
      },
      "execution_count": 8,
      "outputs": [
        {
          "output_type": "stream",
          "name": "stdout",
          "text": [
            "[==================================================] 100.0% 1662.8/1662.8MB downloaded\n"
          ]
        }
      ]
    },
    {
      "cell_type": "code",
      "source": [
        "def analogy(a,b,c):\n",
        "  print(a+':'+b+'::'+c+':?')\n",
        "  print([(w,round(c,3)) for w,c in w2v.most_similar(positive=[c,b], negative=[a])])"
      ],
      "metadata": {
        "id": "ukhrp2LT1SFm"
      },
      "execution_count": 9,
      "outputs": []
    },
    {
      "cell_type": "code",
      "source": [
        "analogy('man', 'king', 'woman')"
      ],
      "metadata": {
        "colab": {
          "base_uri": "https://localhost:8080/"
        },
        "id": "lA65mZAg01RQ",
        "outputId": "65f7f03e-bd6a-4ce3-a941-91602dc2f5fd"
      },
      "execution_count": 10,
      "outputs": [
        {
          "output_type": "stream",
          "name": "stdout",
          "text": [
            "man:king::woman:?\n",
            "[('queen', 0.712), ('monarch', 0.619), ('princess', 0.59), ('crown_prince', 0.55), ('prince', 0.538), ('kings', 0.524), ('Queen_Consort', 0.524), ('queens', 0.518), ('sultan', 0.51), ('monarchy', 0.509)]\n"
          ]
        }
      ]
    },
    {
      "cell_type": "markdown",
      "source": [
        "Examples where the function works and doesnt not work"
      ],
      "metadata": {
        "id": "g88grKM4rPnR"
      }
    },
    {
      "cell_type": "code",
      "source": [
        "analogy('rich', 'happy', 'poor')"
      ],
      "metadata": {
        "colab": {
          "base_uri": "https://localhost:8080/"
        },
        "id": "jcOLPqAh2YWS",
        "outputId": "ba07168c-7586-4f6f-97a4-2eaa9f6af8c1"
      },
      "execution_count": 11,
      "outputs": [
        {
          "output_type": "stream",
          "name": "stdout",
          "text": [
            "rich:happy::poor:?\n",
            "[('unhappy', 0.572), ('disappointed', 0.541), ('good', 0.536), ('satisfied', 0.509), ('miserable', 0.508), ('glad', 0.507), ('bitterly_disappointed', 0.492), ('abysmal', 0.478), ('disappointing', 0.477), ('sorry', 0.475)]\n"
          ]
        }
      ]
    },
    {
      "cell_type": "code",
      "source": [
        "analogy('night', 'sleep', 'day')"
      ],
      "metadata": {
        "colab": {
          "base_uri": "https://localhost:8080/"
        },
        "id": "SFN8LFMJ2hAC",
        "outputId": "4c5352c6-d17b-4993-87e1-07ebb9a8806a"
      },
      "execution_count": 12,
      "outputs": [
        {
          "output_type": "stream",
          "name": "stdout",
          "text": [
            "night:sleep::day:?\n",
            "[('naps', 0.45), ('doze', 0.438), ('nap', 0.434), ('restful_sleep', 0.433), ('daytime_naps', 0.432), ('restorative_sleep', 0.43), ('night_wakings', 0.423), ('wakings', 0.419), ('sleeping', 0.418), ('bedtime', 0.415)]\n"
          ]
        }
      ]
    },
    {
      "cell_type": "code",
      "source": [
        "analogy('pen', 'book', 'tablet')"
      ],
      "metadata": {
        "colab": {
          "base_uri": "https://localhost:8080/"
        },
        "id": "owXwRfMw2vq_",
        "outputId": "9692e304-f3d5-4c14-a2b3-8774142dc184"
      },
      "execution_count": 13,
      "outputs": [
        {
          "output_type": "stream",
          "name": "stdout",
          "text": [
            "pen:book::tablet:?\n",
            "[('ebook', 0.524), ('e_reader', 0.521), ('eBook', 0.511), ('tome', 0.503), ('Android_tablet', 0.503), ('ebook_reader', 0.499), ('Tablet', 0.499), ('eBook_reader', 0.497), ('tablets', 0.493), ('paperback', 0.492)]\n"
          ]
        }
      ]
    },
    {
      "cell_type": "code",
      "source": [
        "analogy('tiger','jungle','fish')"
      ],
      "metadata": {
        "colab": {
          "base_uri": "https://localhost:8080/"
        },
        "id": "97MyrEi34XkM",
        "outputId": "ac339738-0935-413d-d900-10718069fae1"
      },
      "execution_count": 14,
      "outputs": [
        {
          "output_type": "stream",
          "name": "stdout",
          "text": [
            "tiger:jungle::fish:?\n",
            "[('nearshore_reefs', 0.499), ('mangrove_swamps', 0.496), ('sandy_bottoms', 0.494), ('shallow_bays', 0.482), ('crankbaits_jigs', 0.476), ('roosterfish', 0.475), ('muddler_minnow', 0.465), ('chum_slick', 0.465), ('threadfin_herring', 0.465), ('sandy_bottomed', 0.464)]\n"
          ]
        }
      ]
    },
    {
      "cell_type": "code",
      "source": [
        "analogy('man','house','monkey')"
      ],
      "metadata": {
        "colab": {
          "base_uri": "https://localhost:8080/"
        },
        "id": "ISAsupMr4c27",
        "outputId": "5baaee3e-fd16-42a9-e554-9c977f90738f"
      },
      "execution_count": 15,
      "outputs": [
        {
          "output_type": "stream",
          "name": "stdout",
          "text": [
            "man:house::monkey:?\n",
            "[('houses', 0.458), ('monkeys', 0.418), ('rabbit_hutch', 0.415), ('flinging_poo', 0.415), ('hamsters_gerbils', 0.414), ('chicken_coop', 0.413), ('bungalow', 0.408), ('Pet_Shop', 0.403), ('bedroom', 0.4), ('whelping_box', 0.398)]\n"
          ]
        }
      ]
    },
    {
      "cell_type": "code",
      "source": [
        "analogy('apple','healthy','ice_cream')"
      ],
      "metadata": {
        "colab": {
          "base_uri": "https://localhost:8080/"
        },
        "id": "Tkag3LbG7KsW",
        "outputId": "3bccec65-9702-427b-d8af-a729d82d6332"
      },
      "execution_count": 16,
      "outputs": [
        {
          "output_type": "stream",
          "name": "stdout",
          "text": [
            "apple:healthy::ice_cream:?\n",
            "[('healthier', 0.491), ('heathy', 0.483), ('eating_nutritious_foods', 0.451), ('healthful', 0.439), ('nutritionally_sound', 0.438), ('healthly', 0.428), ('balanced_diet', 0.428), ('eat_nutritious_foods', 0.423), ('Dorothy_Meighan', 0.42), ('heathly', 0.412)]\n"
          ]
        }
      ]
    },
    {
      "cell_type": "code",
      "source": [
        "analogy('music', 'relaxing', 'disturbance')"
      ],
      "metadata": {
        "colab": {
          "base_uri": "https://localhost:8080/"
        },
        "id": "RMAGesIU7kNw",
        "outputId": "eb6d9070-7166-40d7-ab8a-957de4faa728"
      },
      "execution_count": 17,
      "outputs": [
        {
          "output_type": "stream",
          "name": "stdout",
          "text": [
            "music:relaxing::disturbance:?\n",
            "[('relaxation', 0.485), ('Relaxing', 0.469), ('relax', 0.449), ('disturbances', 0.44), ('causing_disturbance', 0.426), ('restful', 0.419), ('domestic_disturbance', 0.416), ('relaxed', 0.411), ('relaxes', 0.372), ('lounging', 0.372)]\n"
          ]
        }
      ]
    },
    {
      "cell_type": "markdown",
      "source": [
        "BIAS"
      ],
      "metadata": {
        "id": "dHgn_a1n8Axy"
      }
    },
    {
      "cell_type": "code",
      "source": [
        "analogy('man', 'earns','woman')"
      ],
      "metadata": {
        "colab": {
          "base_uri": "https://localhost:8080/"
        },
        "id": "c_y3DmHL7_VP",
        "outputId": "32bd0eea-335f-4aaf-8136-cacb08c48d8b"
      },
      "execution_count": 18,
      "outputs": [
        {
          "output_type": "stream",
          "name": "stdout",
          "text": [
            "man:earns::woman:?\n",
            "[('receives', 0.633), ('garners', 0.597), ('earn', 0.566), ('earning', 0.545), ('earned', 0.539), ('pays', 0.536), ('recieves', 0.491), ('generates', 0.48), ('Earning', 0.474), ('loses', 0.474)]\n"
          ]
        }
      ]
    },
    {
      "cell_type": "code",
      "source": [
        "analogy('man','handsome','woman')"
      ],
      "metadata": {
        "colab": {
          "base_uri": "https://localhost:8080/"
        },
        "id": "997Kbr088ZUE",
        "outputId": "2c10d671-060f-482d-aca5-bdd8a7c3b75a"
      },
      "execution_count": 19,
      "outputs": [
        {
          "output_type": "stream",
          "name": "stdout",
          "text": [
            "man:handsome::woman:?\n",
            "[('shapely', 0.556), ('comely', 0.534), ('bosomy', 0.524), ('curvacious', 0.518), ('brunet', 0.517), ('vivacious', 0.516), ('blonde_buxom', 0.51), ('auburn_haired', 0.509), ('sexy', 0.509), ('coquettish', 0.505)]\n"
          ]
        }
      ]
    },
    {
      "cell_type": "code",
      "source": [
        "analogy('dress','good','burkha')"
      ],
      "metadata": {
        "colab": {
          "base_uri": "https://localhost:8080/"
        },
        "id": "sZt_7ev682Jq",
        "outputId": "f4c83db0-82fb-460b-c9f7-9b215c44707a"
      },
      "execution_count": 20,
      "outputs": [
        {
          "output_type": "stream",
          "name": "stdout",
          "text": [
            "dress:good::burkha:?\n",
            "[('bad', 0.499), ('decent', 0.494), ('excellent', 0.484), ('great', 0.482), ('terrific', 0.464), ('fantastic', 0.456), ('better', 0.41), ('nice', 0.401), ('strong', 0.394), ('agood', 0.393)]\n"
          ]
        }
      ]
    }
  ]
}