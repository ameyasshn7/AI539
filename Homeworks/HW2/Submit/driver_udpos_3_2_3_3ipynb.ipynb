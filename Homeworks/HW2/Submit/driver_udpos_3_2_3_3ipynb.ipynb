{
  "nbformat": 4,
  "nbformat_minor": 0,
  "metadata": {
    "colab": {
      "provenance": []
    },
    "kernelspec": {
      "name": "python3",
      "display_name": "Python 3"
    },
    "language_info": {
      "name": "python"
    }
  },
  "cells": [
    {
      "cell_type": "code",
      "execution_count": 100,
      "metadata": {
        "id": "Z0jrIHdk9BhJ"
      },
      "outputs": [],
      "source": [
        "import torch\n",
        "from torch.utils.data import DataLoader\n",
        "from torchtext import datasets\n",
        "from torch.utils.data.backward_compatibility import worker_init_fn"
      ]
    },
    {
      "cell_type": "code",
      "source": [
        "!pip install portalocker>=2.0.0"
      ],
      "metadata": {
        "id": "Ez2_hflR95WU"
      },
      "execution_count": 101,
      "outputs": []
    },
    {
      "cell_type": "code",
      "source": [
        "!pip show torch\n",
        "!pip show torchtext\n",
        "!pip show torchdata\n",
        "!pip show portalocker"
      ],
      "metadata": {
        "colab": {
          "base_uri": "https://localhost:8080/"
        },
        "id": "2laNVnms97uv",
        "outputId": "7dc9d478-80fb-42c7-a485-2e20b5c84a95"
      },
      "execution_count": 102,
      "outputs": [
        {
          "output_type": "stream",
          "name": "stdout",
          "text": [
            "Name: torch\n",
            "Version: 2.2.2\n",
            "Summary: Tensors and Dynamic neural networks in Python with strong GPU acceleration\n",
            "Home-page: https://pytorch.org/\n",
            "Author: PyTorch Team\n",
            "Author-email: packages@pytorch.org\n",
            "License: BSD-3\n",
            "Location: /usr/local/lib/python3.10/dist-packages\n",
            "Requires: filelock, fsspec, jinja2, networkx, nvidia-cublas-cu12, nvidia-cuda-cupti-cu12, nvidia-cuda-nvrtc-cu12, nvidia-cuda-runtime-cu12, nvidia-cudnn-cu12, nvidia-cufft-cu12, nvidia-curand-cu12, nvidia-cusolver-cu12, nvidia-cusparse-cu12, nvidia-nccl-cu12, nvidia-nvtx-cu12, sympy, triton, typing-extensions\n",
            "Required-by: fastai, torchaudio, torchdata, torchtext, torchvision\n",
            "Name: torchtext\n",
            "Version: 0.6.0\n",
            "Summary: Text utilities and datasets for PyTorch\n",
            "Home-page: https://github.com/pytorch/text\n",
            "Author: PyTorch core devs and James Bradbury\n",
            "Author-email: jekbradbury@gmail.com\n",
            "License: BSD\n",
            "Location: /usr/local/lib/python3.10/dist-packages\n",
            "Requires: numpy, requests, sentencepiece, six, torch, tqdm\n",
            "Required-by: \n",
            "Name: torchdata\n",
            "Version: 0.7.1\n",
            "Summary: Composable data loading modules for PyTorch\n",
            "Home-page: https://github.com/pytorch/data\n",
            "Author: PyTorch Team\n",
            "Author-email: packages@pytorch.org\n",
            "License: BSD\n",
            "Location: /usr/local/lib/python3.10/dist-packages\n",
            "Requires: requests, torch, urllib3\n",
            "Required-by: \n",
            "Name: portalocker\n",
            "Version: 2.8.2\n",
            "Summary: Wraps the portalocker recipe for easy usage\n",
            "Home-page: \n",
            "Author: \n",
            "Author-email: Rick van Hattem <wolph@wol.ph>\n",
            "License: BSD-3-Clause\n",
            "Location: /usr/local/lib/python3.10/dist-packages\n",
            "Requires: \n",
            "Required-by: \n"
          ]
        }
      ]
    },
    {
      "cell_type": "code",
      "source": [
        "import torch\n",
        "import torch.nn as nn\n",
        "import torch.optim as optim\n",
        "from torchtext.datasets import UDPOS\n",
        "from torchtext.vocab import GloVe\n",
        "import numpy as np\n",
        "import matplotlib.pyplot as plt\n",
        "from torchtext.data import Field, BucketIterator"
      ],
      "metadata": {
        "id": "7ZJt7R86AUS_"
      },
      "execution_count": 72,
      "outputs": []
    },
    {
      "cell_type": "code",
      "source": [
        "!pip install torchtext==0.6\n"
      ],
      "metadata": {
        "colab": {
          "base_uri": "https://localhost:8080/"
        },
        "id": "0F_ecaZKBY5w",
        "outputId": "1f3b2acb-fdc1-49dd-ed66-ec44141960b7"
      },
      "execution_count": 9,
      "outputs": [
        {
          "output_type": "stream",
          "name": "stdout",
          "text": [
            "Requirement already satisfied: torchtext==0.6 in /usr/local/lib/python3.10/dist-packages (0.6.0)\n",
            "Requirement already satisfied: tqdm in /usr/local/lib/python3.10/dist-packages (from torchtext==0.6) (4.66.2)\n",
            "Requirement already satisfied: requests in /usr/local/lib/python3.10/dist-packages (from torchtext==0.6) (2.31.0)\n",
            "Requirement already satisfied: torch in /usr/local/lib/python3.10/dist-packages (from torchtext==0.6) (2.2.2)\n",
            "Requirement already satisfied: numpy in /usr/local/lib/python3.10/dist-packages (from torchtext==0.6) (1.25.2)\n",
            "Requirement already satisfied: six in /usr/local/lib/python3.10/dist-packages (from torchtext==0.6) (1.16.0)\n",
            "Requirement already satisfied: sentencepiece in /usr/local/lib/python3.10/dist-packages (from torchtext==0.6) (0.1.99)\n",
            "Requirement already satisfied: charset-normalizer<4,>=2 in /usr/local/lib/python3.10/dist-packages (from requests->torchtext==0.6) (3.3.2)\n",
            "Requirement already satisfied: idna<4,>=2.5 in /usr/local/lib/python3.10/dist-packages (from requests->torchtext==0.6) (3.7)\n",
            "Requirement already satisfied: urllib3<3,>=1.21.1 in /usr/local/lib/python3.10/dist-packages (from requests->torchtext==0.6) (2.0.7)\n",
            "Requirement already satisfied: certifi>=2017.4.17 in /usr/local/lib/python3.10/dist-packages (from requests->torchtext==0.6) (2024.2.2)\n",
            "Requirement already satisfied: filelock in /usr/local/lib/python3.10/dist-packages (from torch->torchtext==0.6) (3.14.0)\n",
            "Requirement already satisfied: typing-extensions>=4.8.0 in /usr/local/lib/python3.10/dist-packages (from torch->torchtext==0.6) (4.11.0)\n",
            "Requirement already satisfied: sympy in /usr/local/lib/python3.10/dist-packages (from torch->torchtext==0.6) (1.12)\n",
            "Requirement already satisfied: networkx in /usr/local/lib/python3.10/dist-packages (from torch->torchtext==0.6) (3.3)\n",
            "Requirement already satisfied: jinja2 in /usr/local/lib/python3.10/dist-packages (from torch->torchtext==0.6) (3.1.3)\n",
            "Requirement already satisfied: fsspec in /usr/local/lib/python3.10/dist-packages (from torch->torchtext==0.6) (2023.6.0)\n",
            "Requirement already satisfied: nvidia-cuda-nvrtc-cu12==12.1.105 in /usr/local/lib/python3.10/dist-packages (from torch->torchtext==0.6) (12.1.105)\n",
            "Requirement already satisfied: nvidia-cuda-runtime-cu12==12.1.105 in /usr/local/lib/python3.10/dist-packages (from torch->torchtext==0.6) (12.1.105)\n",
            "Requirement already satisfied: nvidia-cuda-cupti-cu12==12.1.105 in /usr/local/lib/python3.10/dist-packages (from torch->torchtext==0.6) (12.1.105)\n",
            "Requirement already satisfied: nvidia-cudnn-cu12==8.9.2.26 in /usr/local/lib/python3.10/dist-packages (from torch->torchtext==0.6) (8.9.2.26)\n",
            "Requirement already satisfied: nvidia-cublas-cu12==12.1.3.1 in /usr/local/lib/python3.10/dist-packages (from torch->torchtext==0.6) (12.1.3.1)\n",
            "Requirement already satisfied: nvidia-cufft-cu12==11.0.2.54 in /usr/local/lib/python3.10/dist-packages (from torch->torchtext==0.6) (11.0.2.54)\n",
            "Requirement already satisfied: nvidia-curand-cu12==10.3.2.106 in /usr/local/lib/python3.10/dist-packages (from torch->torchtext==0.6) (10.3.2.106)\n",
            "Requirement already satisfied: nvidia-cusolver-cu12==11.4.5.107 in /usr/local/lib/python3.10/dist-packages (from torch->torchtext==0.6) (11.4.5.107)\n",
            "Requirement already satisfied: nvidia-cusparse-cu12==12.1.0.106 in /usr/local/lib/python3.10/dist-packages (from torch->torchtext==0.6) (12.1.0.106)\n",
            "Requirement already satisfied: nvidia-nccl-cu12==2.19.3 in /usr/local/lib/python3.10/dist-packages (from torch->torchtext==0.6) (2.19.3)\n",
            "Requirement already satisfied: nvidia-nvtx-cu12==12.1.105 in /usr/local/lib/python3.10/dist-packages (from torch->torchtext==0.6) (12.1.105)\n",
            "Requirement already satisfied: triton==2.2.0 in /usr/local/lib/python3.10/dist-packages (from torch->torchtext==0.6) (2.2.0)\n",
            "Requirement already satisfied: nvidia-nvjitlink-cu12 in /usr/local/lib/python3.10/dist-packages (from nvidia-cusolver-cu12==11.4.5.107->torch->torchtext==0.6) (12.4.127)\n",
            "Requirement already satisfied: MarkupSafe>=2.0 in /usr/local/lib/python3.10/dist-packages (from jinja2->torch->torchtext==0.6) (2.1.5)\n",
            "Requirement already satisfied: mpmath>=0.19 in /usr/local/lib/python3.10/dist-packages (from sympy->torch->torchtext==0.6) (1.3.0)\n"
          ]
        }
      ]
    },
    {
      "cell_type": "code",
      "source": [
        "!pip show torchtext"
      ],
      "metadata": {
        "colab": {
          "base_uri": "https://localhost:8080/"
        },
        "id": "Crvg9P7bCnjK",
        "outputId": "6ab5b0e6-b68f-490f-96a2-943a76800d22"
      },
      "execution_count": 73,
      "outputs": [
        {
          "output_type": "stream",
          "name": "stdout",
          "text": [
            "Name: torchtext\n",
            "Version: 0.6.0\n",
            "Summary: Text utilities and datasets for PyTorch\n",
            "Home-page: https://github.com/pytorch/text\n",
            "Author: PyTorch core devs and James Bradbury\n",
            "Author-email: jekbradbury@gmail.com\n",
            "License: BSD\n",
            "Location: /usr/local/lib/python3.10/dist-packages\n",
            "Requires: numpy, requests, sentencepiece, six, torch, tqdm\n",
            "Required-by: \n"
          ]
        }
      ]
    },
    {
      "cell_type": "code",
      "source": [
        "import spacy\n",
        "import torch\n",
        "from torchtext.data import Field, BucketIterator\n",
        "from torchtext.datasets import UDPOS\n",
        "\n",
        "def tokenizer(text):\n",
        "    return [tok.text for tok in nlp.tokenizer(text)]\n",
        "\n",
        "\n",
        "TEXT = Field(tokenize=tokenizer, lower=True, include_lengths=True)\n",
        "TAGS = Field(unk_token=None, is_target=True)\n",
        "\n",
        "\n",
        "fields = [('text', TEXT), ('tags', TAGS)]\n",
        "\n",
        "\n",
        "train_data, valid_data, test_data = UDPOS.splits(fields=fields)\n",
        "\n",
        "\n",
        "TEXT.build_vocab(train_data, max_size=10000, min_freq=2)\n",
        "TAGS.build_vocab(train_data)\n",
        "train_iterator, valid_iterator, test_iterator = BucketIterator.splits(\n",
        "    (train_data, valid_data, test_data),\n",
        "    batch_size=32,\n",
        "    device=torch.device('cuda' if torch.cuda.is_available() else 'cpu'))\n",
        "\n",
        "\n",
        "\n"
      ],
      "metadata": {
        "id": "koFkKCPkAfDm"
      },
      "execution_count": 74,
      "outputs": []
    },
    {
      "cell_type": "code",
      "source": [
        "class BiLSTM(nn.Module):\n",
        "    def __init__(self, input_dim, embedding_dim, hidden_dim, output_dim, n_layers, bidirectional, dropout):\n",
        "        super().__init__()\n",
        "        self.embedding = nn.Embedding(input_dim, embedding_dim)\n",
        "        self.lstm = nn.LSTM(embedding_dim, hidden_dim, num_layers=n_layers, bidirectional=bidirectional, dropout=dropout)\n",
        "        self.fc = nn.Linear(hidden_dim * 2 if bidirectional else hidden_dim, output_dim)\n",
        "        self.dropout = nn.Dropout(dropout)\n",
        "        self.output_dim = output_dim\n",
        "\n",
        "    def forward(self, text, text_lengths):\n",
        "\n",
        "        embedded = self.dropout(self.embedding(text))\n",
        "\n",
        "        packed_embedded = nn.utils.rnn.pack_padded_sequence(embedded, text_lengths)\n",
        "        packed_output, _ = self.lstm(packed_embedded)\n",
        "\n",
        "        output, _ = nn.utils.rnn.pad_packed_sequence(packed_output)\n",
        "\n",
        "        output = self.fc(self.dropout(output))\n",
        "        return output\n"
      ],
      "metadata": {
        "id": "OnsTzMpeDEcn"
      },
      "execution_count": 75,
      "outputs": []
    },
    {
      "cell_type": "code",
      "source": [
        "from torchtext.vocab import GloVe\n",
        "from torchtext.data import Field, BucketIterator\n",
        "from torchtext.datasets import UDPOS\n",
        "\n",
        "\n",
        "TEXT = Field(lower=True, include_lengths=True)\n",
        "UD_TAGS = Field(unk_token=None, is_target=True)\n",
        "\n",
        "\n",
        "fields = [('text', TEXT), ('udtags', UD_TAGS)]\n",
        "train_data, valid_data, test_data = UDPOS.splits(fields=fields)\n",
        "\n",
        "\n",
        "TEXT.build_vocab(train_data, vectors=GloVe(name='6B', dim=100))\n",
        "UD_TAGS.build_vocab(train_data)\n",
        "\n",
        "\n",
        "INPUT_DIM = len(TEXT.vocab)\n",
        "EMBEDDING_DIM = 100\n",
        "HIDDEN_DIM = 256\n",
        "OUTPUT_DIM = len(UD_TAGS.vocab)\n",
        "N_LAYERS = 2\n",
        "BIDIRECTIONAL = True\n",
        "DROPOUT = 0.25\n",
        "\n",
        "\n",
        "model = BiLSTM(INPUT_DIM, EMBEDDING_DIM, HIDDEN_DIM, OUTPUT_DIM, N_LAYERS, BIDIRECTIONAL, DROPOUT)\n",
        "\n",
        "\n",
        "model.embedding.weight.data.copy_(TEXT.vocab.vectors)\n"
      ],
      "metadata": {
        "colab": {
          "base_uri": "https://localhost:8080/"
        },
        "id": "T4E9XOrvDHd-",
        "outputId": "2186db7e-bd9e-4119-86a0-3ee063e4f736"
      },
      "execution_count": 95,
      "outputs": [
        {
          "output_type": "execute_result",
          "data": {
            "text/plain": [
              "tensor([[ 0.0000,  0.0000,  0.0000,  ...,  0.0000,  0.0000,  0.0000],\n",
              "        [ 0.0000,  0.0000,  0.0000,  ...,  0.0000,  0.0000,  0.0000],\n",
              "        [-0.0382, -0.2449,  0.7281,  ..., -0.1459,  0.8278,  0.2706],\n",
              "        ...,\n",
              "        [ 0.0000,  0.0000,  0.0000,  ...,  0.0000,  0.0000,  0.0000],\n",
              "        [ 0.2634,  0.0742, -0.1081,  ..., -0.2977, -0.5655,  0.5218],\n",
              "        [ 0.4244,  0.6004, -0.1528,  ...,  0.2536, -0.4969,  0.8964]])"
            ]
          },
          "metadata": {},
          "execution_count": 95
        }
      ]
    },
    {
      "cell_type": "code",
      "source": [
        "import torch\n",
        "import os\n",
        "from torch import optim, nn\n",
        "\n",
        "def initialize_optimizer_and_criterion(model):\n",
        "    optimizer = optim.Adam(model.parameters(), lr=0.001)\n",
        "    criterion = nn.CrossEntropyLoss()\n",
        "    return optimizer, criterion\n",
        "\n",
        "def calculate_accuracy(predictions, labels):\n",
        "    correct = (predictions.argmax(dim=1) == labels).float()\n",
        "    return correct.mean()\n",
        "\n",
        "def train_epoch(model, iterator, optimizer, criterion):\n",
        "    model.train()\n",
        "    total_loss = 0\n",
        "    total_accuracy = 0\n",
        "    for batch in iterator:\n",
        "        optimizer.zero_grad()\n",
        "        text, text_lengths = batch.text\n",
        "        tags = batch.udtags.view(-1)\n",
        "        predictions = model(text, text_lengths).view(-1, model.output_dim)\n",
        "        loss = criterion(predictions, tags)\n",
        "        acc = calculate_accuracy(predictions, tags)\n",
        "        loss.backward()\n",
        "        optimizer.step()\n",
        "        total_loss += loss.item()\n",
        "        total_accuracy += acc.item()\n",
        "    return total_loss / len(iterator), total_accuracy / len(iterator)\n",
        "\n",
        "def evaluate_model(model, iterator, criterion):\n",
        "    model.eval()\n",
        "    total_loss = 0\n",
        "    total_accuracy = 0\n",
        "    with torch.no_grad():\n",
        "        for batch in iterator:\n",
        "            text, text_lengths = batch.text\n",
        "            tags = batch.udtags.view(-1)\n",
        "            predictions = model(text, text_lengths).view(-1, model.output_dim)\n",
        "            loss = criterion(predictions, tags)\n",
        "            acc = calculate_accuracy(predictions, tags)\n",
        "            total_loss += loss.item()\n",
        "            total_accuracy += acc.item()\n",
        "    return total_loss / len(iterator), total_accuracy / len(iterator)\n",
        "\n",
        "def save_checkpoint(state, filename=\"model_checkpoint.pth.tar\"):\n",
        "    print(\"=> Saving checkpoint\")\n",
        "    torch.save(state, filename)\n",
        "\n",
        "def train_model(model, train_iterator, valid_iterator, num_epochs, model_path='best_model.pt'):\n",
        "    optimizer, criterion = initialize_optimizer_and_criterion(model)\n",
        "    history = {'train_loss': [], 'train_acc': [], 'val_loss': [], 'val_acc': []}\n",
        "\n",
        "    best_valid_accuracy = 0.0\n",
        "    for epoch in range(num_epochs):\n",
        "        train_loss, train_acc = train_epoch(model, train_iterator, optimizer, criterion)\n",
        "        valid_loss, valid_acc = evaluate_model(model, valid_iterator, criterion)\n",
        "\n",
        "        history['train_loss'].append(train_loss)\n",
        "        history['train_acc'].append(train_acc)\n",
        "        history['val_loss'].append(valid_loss)\n",
        "        history['val_acc'].append(valid_acc)\n",
        "\n",
        "        print(f'Epoch: {epoch+1:02}')\n",
        "        print(f'\\tTrain Loss: {train_loss:.3f}, Train Acc: {train_acc:.3f}')\n",
        "        print(f'\\tValid Loss: {valid_loss:.3f}, Valid Acc: {valid_acc:.3f}')\n",
        "\n",
        "        if valid_acc > best_valid_accuracy:\n",
        "            best_valid_accuracy = valid_acc\n",
        "            torch.save(model.state_dict(), model_path)\n",
        "            save_checkpoint({'state_dict': model.state_dict(), 'optimizer': optimizer.state_dict(), 'epoch': epoch, 'valid_acc': valid_acc})\n",
        "\n",
        "    print(\"Training completed.\")\n",
        "    return history\n",
        "\n",
        "device = torch.device('cuda' if torch.cuda.is_available() else 'cpu')\n",
        "train_iterator, valid_iterator, test_iterator = BucketIterator.splits(\n",
        "    (train_data, valid_data, test_data),\n",
        "    batch_size=64,\n",
        "    sort_within_batch=True,\n",
        "    sort_key=lambda x: len(x.text),\n",
        "    device=device\n",
        ")\n",
        "\n",
        "NUM_EPOCHS = 10\n",
        "history = train_model(model, train_iterator, valid_iterator, NUM_EPOCHS, 'best_model.pt')\n",
        "\n",
        "\n"
      ],
      "metadata": {
        "colab": {
          "base_uri": "https://localhost:8080/"
        },
        "id": "XCJyGDv6Ebzr",
        "outputId": "796872df-8b2a-44fa-8baf-bfb7f16c60cc"
      },
      "execution_count": 96,
      "outputs": [
        {
          "output_type": "stream",
          "name": "stdout",
          "text": [
            "Epoch: 01\n",
            "\tTrain Loss: 1.092, Train Acc: 0.680\n",
            "\tValid Loss: 0.644, Valid Acc: 0.869\n",
            "=> Saving checkpoint\n",
            "Epoch: 02\n",
            "\tTrain Loss: 0.436, Train Acc: 0.884\n",
            "\tValid Loss: 0.539, Valid Acc: 0.883\n",
            "=> Saving checkpoint\n",
            "Epoch: 03\n",
            "\tTrain Loss: 0.322, Train Acc: 0.918\n",
            "\tValid Loss: 0.511, Valid Acc: 0.891\n",
            "=> Saving checkpoint\n",
            "Epoch: 04\n",
            "\tTrain Loss: 0.262, Train Acc: 0.936\n",
            "\tValid Loss: 0.483, Valid Acc: 0.896\n",
            "=> Saving checkpoint\n",
            "Epoch: 05\n",
            "\tTrain Loss: 0.224, Train Acc: 0.950\n",
            "\tValid Loss: 0.460, Valid Acc: 0.904\n",
            "=> Saving checkpoint\n",
            "Epoch: 06\n",
            "\tTrain Loss: 0.185, Train Acc: 0.958\n",
            "\tValid Loss: 0.470, Valid Acc: 0.905\n",
            "=> Saving checkpoint\n",
            "Epoch: 07\n",
            "\tTrain Loss: 0.164, Train Acc: 0.964\n",
            "\tValid Loss: 0.456, Valid Acc: 0.908\n",
            "=> Saving checkpoint\n",
            "Epoch: 08\n",
            "\tTrain Loss: 0.143, Train Acc: 0.968\n",
            "\tValid Loss: 0.472, Valid Acc: 0.906\n",
            "Epoch: 09\n",
            "\tTrain Loss: 0.144, Train Acc: 0.972\n",
            "\tValid Loss: 0.457, Valid Acc: 0.911\n",
            "=> Saving checkpoint\n",
            "Epoch: 10\n",
            "\tTrain Loss: 0.126, Train Acc: 0.975\n",
            "\tValid Loss: 0.465, Valid Acc: 0.909\n",
            "Training completed.\n"
          ]
        }
      ]
    },
    {
      "cell_type": "code",
      "source": [
        "\n",
        "def eval_test(model, data_iterator, loss_metric):\n",
        "    model.eval()\n",
        "    total_test_loss = 0\n",
        "    total_test_accuracy = 0\n",
        "\n",
        "    with torch.no_grad():\n",
        "        for data in data_iterator:\n",
        "            input_text, lengths_of_text = data.text\n",
        "            ground_truth_labels = data.udtags\n",
        "\n",
        "            predictions = model(input_text, lengths_of_text).view(-1, OUTPUT_DIM)\n",
        "            ground_truth_labels = ground_truth_labels.view(-1)\n",
        "\n",
        "            loss = loss_metric(predictions, ground_truth_labels)\n",
        "            accuracy = compute_accuracy(predictions, ground_truth_labels)\n",
        "\n",
        "            total_test_loss += loss.item()\n",
        "            total_test_accuracy += accuracy.item()\n",
        "\n",
        "    mean_loss = total_test_loss / len(data_iterator)\n",
        "    mean_accuracy = total_test_accuracy / len(data_iterator)\n",
        "    return mean_loss, mean_accuracy\n",
        "\n",
        "def compute_accuracy(predictions, true_labels):\n",
        "    \"\"\" Calculate the accuracy based on the maximum probability predictions and true labels. \"\"\"\n",
        "    correct_predictions = predictions.argmax(dim=1, keepdim=True).squeeze(1).eq(true_labels)\n",
        "    return correct_predictions.float().mean()\n",
        "\n",
        "# Load the pretrained model\n",
        "model_path = 'best_model.pt'\n",
        "model.load_state_dict(torch.load(model_path))\n",
        "\n",
        "# Evaluate the model on the test data\n",
        "test_data_loss, test_data_accuracy = eval_test(model, test_iterator, criterion)\n",
        "print(f'Model Evaluation on Test Data - Loss: {test_data_loss:.3f}, Accuracy: {test_data_accuracy * 100:.2f}%')\n"
      ],
      "metadata": {
        "colab": {
          "base_uri": "https://localhost:8080/"
        },
        "id": "LdzyRK8Wg1FM",
        "outputId": "75c3baba-b381-4dc4-f991-e36085b9e111"
      },
      "execution_count": 114,
      "outputs": [
        {
          "output_type": "stream",
          "name": "stdout",
          "text": [
            "Model Evaluation on Test Data - Loss: 0.448, Accuracy: 90.66%\n"
          ]
        }
      ]
    },
    {
      "cell_type": "code",
      "source": [
        "import torch\n",
        "import logging\n",
        "\n",
        "# Configure logging\n",
        "logging.basicConfig(level=logging.INFO, format='%(asctime)s - %(levelname)s - %(message)s')\n",
        "\n",
        "def load_model(model_path, model):\n",
        "    \"\"\" Load the model from a file. \"\"\"\n",
        "    try:\n",
        "        model.load_state_dict(torch.load(model_path))\n",
        "        model.eval()\n",
        "    except FileNotFoundError:\n",
        "        logging.error(f\"Model file not found: {model_path}\")\n",
        "        exit(1)\n",
        "    except Exception as e:\n",
        "        logging.error(f\"Error loading model: {str(e)}\")\n",
        "        exit(1)\n",
        "\n",
        "def calculate_accuracy(predictions, tags):\n",
        "    \"\"\" Calculate the accuracy of predictions. \"\"\"\n",
        "    max_preds = predictions.argmax(dim=1, keepdim=True)  # get the index of the max probability\n",
        "    correct = max_preds.squeeze(1).eq(tags)\n",
        "    return correct.sum() / torch.FloatTensor([tags.shape[0]])\n",
        "\n",
        "def evaluate_test(model, iterator, criterion, output_dim):\n",
        "    \"\"\" Evaluate the model on a test set. \"\"\"\n",
        "    epoch_loss = 0\n",
        "    epoch_acc = 0\n",
        "\n",
        "    with torch.no_grad():\n",
        "        for batch in iterator:\n",
        "            text, text_lengths = batch.text\n",
        "            tags = batch.udtags\n",
        "\n",
        "            predictions = model(text, text_lengths).view(-1, output_dim)\n",
        "            tags = tags.view(-1)\n",
        "\n",
        "            loss = criterion(predictions, tags)\n",
        "            acc = calculate_accuracy(predictions, tags)\n",
        "\n",
        "            epoch_loss += loss.item()\n",
        "            epoch_acc += acc.item()\n",
        "\n",
        "    return epoch_loss / len(iterator), epoch_acc / len(iterator)\n",
        "\n",
        "# Parameters\n",
        "model_path = 'best_model.pt'\n",
        "output_dim = 100  # Assuming OUTPUT_DIM is 100, this should be defined based on your model's architecture\n",
        "\n",
        "# Load the model and evaluate on the test dataset\n",
        "load_model(model_path, model)\n",
        "test_loss, test_acc = evaluate_test(model, test_iterator, criterion, output_dim)\n",
        "logging.info(f'Test Loss: {test_loss:.3f} | Test Acc: {test_acc*100:.2f}%')\n"
      ],
      "metadata": {
        "id": "pW_uEoi_hKWY"
      },
      "execution_count": null,
      "outputs": []
    },
    {
      "cell_type": "code",
      "source": [
        "import matplotlib.pyplot as plt\n",
        "\n",
        "def plot_training_history(history):\n",
        "    epochs = range(1, len(history['train_loss']) + 1)\n",
        "\n",
        "    plt.figure(figsize=(12, 6))\n",
        "\n",
        "    plt.subplot(1, 2, 1)\n",
        "    plt.plot(epochs, history['train_loss'], label='Train Loss')\n",
        "    plt.plot(epochs, history['val_loss'], label='Validation Loss')\n",
        "    plt.title('Training and Validation Loss')\n",
        "    plt.xlabel('Epochs')\n",
        "    plt.ylabel('Loss')\n",
        "    plt.legend()\n",
        "\n",
        "\n",
        "    plt.subplot(1, 2, 2)\n",
        "    plt.plot(epochs, history['train_acc'], label='Train Acc')\n",
        "    plt.plot(epochs, history['val_acc'], label='Validation Acc')\n",
        "    plt.title('Training and Validation Accuracy')\n",
        "    plt.xlabel('Epochs')\n",
        "    plt.ylabel('Accuracy')\n",
        "    plt.legend()\n",
        "\n",
        "    plt.tight_layout()\n",
        "    plt.show()\n",
        "\n",
        "plot_training_history(history)\n"
      ],
      "metadata": {
        "colab": {
          "base_uri": "https://localhost:8080/",
          "height": 607
        },
        "id": "3cjhIyk1IvV0",
        "outputId": "8f3cfbc3-eed4-4a3b-afde-835201c68aaf"
      },
      "execution_count": 97,
      "outputs": [
        {
          "output_type": "display_data",
          "data": {
            "text/plain": [
              "<Figure size 1200x600 with 2 Axes>"
            ],
            "image/png": "[encoded data removed]"
          },
          "metadata": {}
        }
      ]
    },
    {
      "cell_type": "code",
      "source": [
        "def tag_sentence(sentence, model, vocab, tag_vocab):\n",
        "\n",
        "    nlp = spacy.load('en_core_web_sm')\n",
        "\n",
        "    tokens = [tok.text for tok in nlp(sentence)]\n",
        "\n",
        "\n",
        "    token_indices = [vocab.stoi.get(token.lower(), vocab.stoi['<unk>']) for token in tokens]\n",
        "\n",
        "\n",
        "    token_tensor = torch.LongTensor(token_indices).unsqueeze(0)\n",
        "\n",
        "    lengths = torch.LongTensor([len(token_indices)])\n",
        "\n",
        "\n",
        "    model.eval()\n",
        "    with torch.no_grad():\n",
        "\n",
        "        embedded = model.embedding(token_tensor)\n",
        "        packed_embedded = torch.nn.utils.rnn.pack_padded_sequence(embedded, lengths, batch_first=True, enforce_sorted=False)\n",
        "        packed_output, _ = model.lstm(packed_embedded)\n",
        "        output, _ = torch.nn.utils.rnn.pad_packed_sequence(packed_output, batch_first=True)\n",
        "\n",
        "\n",
        "        predictions = model.fc(model.dropout(output))\n",
        "        predicted_indices = torch.argmax(predictions, dim=2).squeeze(0).tolist()\n",
        "\n",
        "\n",
        "    predicted_tags = [tag_vocab.itos[idx] for idx in predicted_indices]\n",
        "\n",
        "\n",
        "    tagged_sentence = ' '.join([f'{token}/{tag}' for token, tag in zip(tokens, predicted_tags)])\n",
        "    return tagged_sentence\n",
        "\n",
        "\n",
        "sentences = [\n",
        "    \"The old man the boat.\",\n",
        "    \"The complex houses married and single soldiers and their families.\",\n",
        "    \"The man who hunts ducks out on weekends.\"\n",
        "]\n",
        "\n",
        "vocab = TEXT.vocab\n",
        "tag_vocab = TAGS.vocab\n",
        "\n",
        "for sentence in sentences:\n",
        "    print(tag_sentence(sentence, model, vocab, tag_vocab))\n"
      ],
      "metadata": {
        "colab": {
          "base_uri": "https://localhost:8080/"
        },
        "id": "uv_kEr67I-mO",
        "outputId": "89082cfc-98bf-4b69-d398-42d502c7417b"
      },
      "execution_count": 111,
      "outputs": [
        {
          "output_type": "stream",
          "name": "stdout",
          "text": [
            "The/DET old/ADJ man/NOUN the/DET boat/NOUN ./PUNCT\n",
            "The/DET complex/ADJ houses/NOUN married/VERB and/CCONJ single/ADJ soldiers/NOUN and/CCONJ their/PRON families/NOUN ./PUNCT\n",
            "The/DET man/NOUN who/PRON hunts/VERB ducks/VERB out/ADP on/ADP weekends/NOUN ./PUNCT\n"
          ]
        }
      ]
    }
  ]
}