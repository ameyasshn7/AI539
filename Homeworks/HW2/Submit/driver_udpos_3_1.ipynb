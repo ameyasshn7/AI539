{
  "nbformat": 4,
  "nbformat_minor": 0,
  "metadata": {
    "colab": {
      "provenance": []
    },
    "kernelspec": {
      "name": "python3",
      "display_name": "Python 3"
    },
    "language_info": {
      "name": "python"
    }
  },
  "cells": [
    {
      "cell_type": "code",
      "execution_count": 1,
      "metadata": {
        "id": "srNm4BeiENMw"
      },
      "outputs": [],
      "source": [
        "import torch\n",
        "from torch.utils.data import DataLoader\n",
        "from torchtext import datasets\n",
        "from torch.utils.data.backward_compatibility import worker_init_fn"
      ]
    },
    {
      "cell_type": "code",
      "source": [
        "!pip install portalocker>=2.0.0"
      ],
      "metadata": {
        "id": "QplsC0RSEPw0"
      },
      "execution_count": 2,
      "outputs": []
    },
    {
      "cell_type": "code",
      "source": [
        "!pip show torch\n",
        "!pip show torchtext\n",
        "!pip show torchdata\n",
        "!pip show portalocker"
      ],
      "metadata": {
        "colab": {
          "base_uri": "https://localhost:8080/"
        },
        "id": "SWUGpu4TEZQ3",
        "outputId": "6ecc7495-cc05-49f9-980e-c6457db65662"
      },
      "execution_count": 3,
      "outputs": [
        {
          "output_type": "stream",
          "name": "stdout",
          "text": [
            "Name: torch\n",
            "Version: 2.2.1+cu121\n",
            "Summary: Tensors and Dynamic neural networks in Python with strong GPU acceleration\n",
            "Home-page: https://pytorch.org/\n",
            "Author: PyTorch Team\n",
            "Author-email: packages@pytorch.org\n",
            "License: BSD-3\n",
            "Location: /usr/local/lib/python3.10/dist-packages\n",
            "Requires: filelock, fsspec, jinja2, networkx, nvidia-cublas-cu12, nvidia-cuda-cupti-cu12, nvidia-cuda-nvrtc-cu12, nvidia-cuda-runtime-cu12, nvidia-cudnn-cu12, nvidia-cufft-cu12, nvidia-curand-cu12, nvidia-cusolver-cu12, nvidia-cusparse-cu12, nvidia-nccl-cu12, nvidia-nvtx-cu12, sympy, triton, typing-extensions\n",
            "Required-by: fastai, torchaudio, torchdata, torchtext, torchvision\n",
            "Name: torchtext\n",
            "Version: 0.17.1\n",
            "Summary: Text utilities, models, transforms, and datasets for PyTorch.\n",
            "Home-page: https://github.com/pytorch/text\n",
            "Author: PyTorch Text Team\n",
            "Author-email: packages@pytorch.org\n",
            "License: BSD\n",
            "Location: /usr/local/lib/python3.10/dist-packages\n",
            "Requires: numpy, requests, torch, torchdata, tqdm\n",
            "Required-by: \n",
            "Name: torchdata\n",
            "Version: 0.7.1\n",
            "Summary: Composable data loading modules for PyTorch\n",
            "Home-page: https://github.com/pytorch/data\n",
            "Author: PyTorch Team\n",
            "Author-email: packages@pytorch.org\n",
            "License: BSD\n",
            "Location: /usr/local/lib/python3.10/dist-packages\n",
            "Requires: requests, torch, urllib3\n",
            "Required-by: torchtext\n",
            "Name: portalocker\n",
            "Version: 2.8.2\n",
            "Summary: Wraps the portalocker recipe for easy usage\n",
            "Home-page: \n",
            "Author: \n",
            "Author-email: Rick van Hattem <wolph@wol.ph>\n",
            "License: BSD-3-Clause\n",
            "Location: /usr/local/lib/python3.10/dist-packages\n",
            "Requires: \n",
            "Required-by: \n"
          ]
        }
      ]
    },
    {
      "cell_type": "code",
      "source": [
        "# Create data pipeline\n",
        "train_data = datasets.UDPOS(split='train')"
      ],
      "metadata": {
        "id": "w5NeeSS9EbfF"
      },
      "execution_count": 4,
      "outputs": []
    },
    {
      "cell_type": "code",
      "source": [
        "train_data"
      ],
      "metadata": {
        "colab": {
          "base_uri": "https://localhost:8080/"
        },
        "id": "uq4vlcTDEfwJ",
        "outputId": "063ff766-0801-4749-9744-5c11881eeb1b"
      },
      "execution_count": 5,
      "outputs": [
        {
          "output_type": "execute_result",
          "data": {
            "text/plain": [
              "ShardingFilterIterDataPipe"
            ]
          },
          "metadata": {},
          "execution_count": 5
        }
      ]
    },
    {
      "cell_type": "code",
      "source": [
        "def pad_collate(batch):\n",
        "  xx = [b[0] for b in batch]\n",
        "  yy = [b[1] for b in batch]\n",
        "  x_lens = [len(x) for x in xx]\n",
        "  return xx, yy, x_lens"
      ],
      "metadata": {
        "id": "_Z6etlKKEkHJ"
      },
      "execution_count": 6,
      "outputs": []
    },
    {
      "cell_type": "code",
      "source": [
        "train_loader = DataLoader(dataset=train_data, batch_size=5,\n",
        "                          shuffle = True, num_workers=1,\n",
        "                          worker_init_fn=worker_init_fn,\n",
        "                          drop_last=True, collate_fn=pad_collate)\n"
      ],
      "metadata": {
        "id": "8tMopuNyEo-6"
      },
      "execution_count": 7,
      "outputs": []
    },
    {
      "cell_type": "code",
      "source": [
        "xx,yy,x_lens=next(iter(train_loader))\n"
      ],
      "metadata": {
        "colab": {
          "base_uri": "https://localhost:8080/"
        },
        "id": "K8UXu7fKEq7b",
        "outputId": "9860f4a7-41e1-49fa-ed6b-93cd27708831"
      },
      "execution_count": 16,
      "outputs": [
        {
          "output_type": "stream",
          "name": "stderr",
          "text": [
            "/usr/local/lib/python3.10/dist-packages/torch/utils/data/backward_compatibility.py:4: UserWarning: Usage of backward_compatibility.worker_init_fn is deprecated as DataLoader automatically applies sharding in every worker\n",
            "  warnings.warn(\"Usage of backward_compatibility.worker_init_fn is deprecated\"\n"
          ]
        }
      ]
    },
    {
      "cell_type": "code",
      "source": [
        "def visualizeSentenceWithTags(text,udtags):\n",
        "\n",
        "  print ( \" Token \" + \" \" . join ([ \" \" ]*(15) ) + \" POS Tag \" )\n",
        "  print ( \"--------------------------------------------------\" )\n",
        "  for w , t in zip ( text , udtags ) :\n",
        "    print ( w + \" \" . join ([ \" \" ]*(20 - len ( w ) ) ) + t )"
      ],
      "metadata": {
        "id": "yd9FvUB6Eynj"
      },
      "execution_count": 11,
      "outputs": []
    },
    {
      "cell_type": "code",
      "source": [
        "visualizeSentenceWithTags(xx[0],yy[0])"
      ],
      "metadata": {
        "colab": {
          "base_uri": "https://localhost:8080/"
        },
        "id": "RXByh-gVE1NZ",
        "outputId": "096a805c-047d-441b-c1e2-62887b36d795"
      },
      "execution_count": 12,
      "outputs": [
        {
          "output_type": "stream",
          "name": "stdout",
          "text": [
            " Token                               POS Tag \n",
            "--------------------------------------------------\n",
            "I                                     PRON\n",
            "passed                           VERB\n",
            "along                             ADV\n",
            "to                                   ADP\n",
            "Liz                                 PROPN\n",
            "Austin                           PROPN\n",
            "your                               PRON\n",
            "request                         NOUN\n",
            "regarding                     VERB\n",
            "pleadings                     NOUN\n",
            "A&K                                 PROPN\n",
            "has                                 AUX\n",
            "filed                             VERB\n",
            "setting                         VERB\n",
            "forth                             ADV\n",
            "the                                 DET\n",
            "Trustee                         NOUN\n",
            "'s                                   PART\n",
            "position                       NOUN\n",
            "in                                   ADP\n",
            "connection                   NOUN\n",
            "with                               ADP\n",
            "the                                 DET\n",
            "enforcement                 NOUN\n",
            "/                                     PUNCT\n",
            "nonenforcement           NOUN\n",
            "of                                   ADP\n",
            "the                                 DET\n",
            "power                             NOUN\n",
            "contracts                     NOUN\n",
            "and                                 CCONJ\n",
            "what                               DET\n",
            "remedies                       NOUN\n",
            "the                                 DET\n",
            "Trustee                         NOUN\n",
            "is                                   AUX\n",
            "seeking                         VERB\n",
            ".                                     PUNCT\n"
          ]
        }
      ]
    },
    {
      "cell_type": "code",
      "source": [
        "!rm -rf /root/.cache/torch/text/datasets/UDPOS\n",
        "import torchtext\n",
        "train_data = torchtext.datasets.UDPOS(split='train')\n",
        "for item in train_data:\n",
        "    print(item)\n",
        "    break"
      ],
      "metadata": {
        "colab": {
          "base_uri": "https://localhost:8080/"
        },
        "id": "PU-jA2xqE30I",
        "outputId": "c3ed8f2a-aa7a-422b-aaf1-be6eef756a05"
      },
      "execution_count": 13,
      "outputs": [
        {
          "output_type": "stream",
          "name": "stdout",
          "text": [
            "[['Al', '-', 'Zaman', ':', 'American', 'forces', 'killed', 'Shaikh', 'Abdullah', 'al', '-', 'Ani', ',', 'the', 'preacher', 'at', 'the', 'mosque', 'in', 'the', 'town', 'of', 'Qaim', ',', 'near', 'the', 'Syrian', 'border', '.'], ['PROPN', 'PUNCT', 'PROPN', 'PUNCT', 'ADJ', 'NOUN', 'VERB', 'PROPN', 'PROPN', 'PROPN', 'PUNCT', 'PROPN', 'PUNCT', 'DET', 'NOUN', 'ADP', 'DET', 'NOUN', 'ADP', 'DET', 'NOUN', 'ADP', 'PROPN', 'PUNCT', 'ADP', 'DET', 'ADJ', 'NOUN', 'PUNCT'], ['NNP', 'HYPH', 'NNP', ':', 'JJ', 'NNS', 'VBD', 'NNP', 'NNP', 'NNP', 'HYPH', 'NNP', ',', 'DT', 'NN', 'IN', 'DT', 'NN', 'IN', 'DT', 'NN', 'IN', 'NNP', ',', 'IN', 'DT', 'JJ', 'NN', '.']]\n"
          ]
        }
      ]
    },
    {
      "cell_type": "code",
      "source": [
        "import random\n",
        "\n",
        "for i, (xx, yy, x_len) in enumerate(train_loader):\n",
        "    if i >= 5:\n",
        "        break\n",
        "    print(f\"Sample {i+1}:\")\n",
        "    visualizeSentenceWithTags(xx[0], yy[0])\n"
      ],
      "metadata": {
        "colab": {
          "base_uri": "https://localhost:8080/"
        },
        "id": "15e3OAdNE6Fw",
        "outputId": "7d48a346-972f-42c1-a76f-fd4dfbf8b17f"
      },
      "execution_count": 14,
      "outputs": [
        {
          "output_type": "stream",
          "name": "stderr",
          "text": [
            "/usr/local/lib/python3.10/dist-packages/torch/utils/data/backward_compatibility.py:4: UserWarning: Usage of backward_compatibility.worker_init_fn is deprecated as DataLoader automatically applies sharding in every worker\n",
            "  warnings.warn(\"Usage of backward_compatibility.worker_init_fn is deprecated\"\n"
          ]
        },
        {
          "output_type": "stream",
          "name": "stdout",
          "text": [
            "Sample 1:\n",
            " Token                               POS Tag \n",
            "--------------------------------------------------\n",
            "4                                     X\n",
            "Sample 2:\n",
            " Token                               POS Tag \n",
            "--------------------------------------------------\n",
            "Small                             ADJ\n",
            "polygamous                   ADJ\n",
            "groups                           NOUN\n",
            "have                               AUX\n",
            "existed                         VERB\n",
            "in                                   ADP\n",
            "the                                 DET\n",
            "southwestern               ADJ\n",
            "US                                   PROPN\n",
            "under                             ADP\n",
            "the                                 DET\n",
            "watchful                       ADJ\n",
            "yet                                 CCONJ\n",
            "fairly                           ADV\n",
            "benign                           ADJ\n",
            "eye                                 NOUN\n",
            "of                                   ADP\n",
            "authorities                 NOUN\n",
            "ever                               ADV\n",
            "since                             SCONJ\n",
            "a                                     DET\n",
            "sect                               NOUN\n",
            "known                             VERB\n",
            "as                                   ADP\n",
            "the                                 DET\n",
            "Fundamentalist           PROPN\n",
            "Latter                           PROPN\n",
            "Day                                 PROPN\n",
            "Saints                           PROPN\n",
            "(                                     PUNCT\n",
            "FLDS                               PROPN\n",
            ")                                     PUNCT\n",
            "separated                     VERB\n",
            "itself                           PRON\n",
            "from                               ADP\n",
            "mainstream                   ADJ\n",
            "Mormonism                     PROPN\n",
            "in                                   ADP\n",
            "1890                               NUM\n",
            ".                                     PUNCT\n",
            "Sample 3:\n",
            " Token                               POS Tag \n",
            "--------------------------------------------------\n",
            "Our                                 PRON\n",
            "attorneys                     NOUN\n",
            "and                                 CCONJ\n",
            "internal                       ADJ\n",
            "audit                             NOUN\n",
            "area                               NOUN\n",
            "have                               AUX\n",
            "made                               VERB\n",
            "one                                 NUM\n",
            "language                       NOUN\n",
            "revision                       NOUN\n",
            "concerning                   VERB\n",
            "Section                         NOUN\n",
            "XIII                               NUM\n",
            "Audit                             NOUN\n",
            "Rights                           NOUN\n",
            ".                                     PUNCT\n",
            "Sample 4:\n",
            " Token                               POS Tag \n",
            "--------------------------------------------------\n",
            "the                                 DET\n",
            "time                               NOUN\n",
            ":                                     PUNCT\n",
            "10:00                             NUM\n",
            "AM                                   NOUN\n",
            "-                                     SYM\n",
            "11:00                             NUM\n",
            "AM                                   NOUN\n",
            "CST                                 PROPN\n",
            "Sample 5:\n",
            " Token                               POS Tag \n",
            "--------------------------------------------------\n",
            "They                               PRON\n",
            "are                                 AUX\n",
            "beautiful                     ADJ\n",
            "and                                 CCONJ\n",
            "will                               AUX\n",
            "add                                 VERB\n",
            "a                                     DET\n",
            "lot                                 NOUN\n",
            "to                                   ADP\n",
            "our                                 PRON\n",
            "collection                   NOUN\n",
            ".                                     PUNCT\n"
          ]
        }
      ]
    },
    {
      "cell_type": "code",
      "source": [
        "from collections import Counter\n",
        "import matplotlib.pyplot as plt\n",
        "\n",
        "# Initialize a counter to track the frequencies of POS tags\n",
        "pos_tag_counter = Counter()\n",
        "\n",
        "# Iterate over the training data loader to count POS tags\n",
        "for _, tags_batch, _ in train_loader:\n",
        "    for tags in tags_batch:\n",
        "        pos_tag_counter.update(tags)\n",
        "\n",
        "# Plotting the histogram of POS tag frequencies\n",
        "plt.figure(figsize=(10, 5))\n",
        "plt.bar(pos_tag_counter.keys(), pos_tag_counter.values(), color='blue')\n",
        "plt.xlabel('Part of Speech Tags')\n",
        "plt.ylabel('Frequency')\n",
        "plt.title('Histogram of POS Tags in Dataset')\n",
        "plt.xticks(rotation=90)  # Rotate labels to avoid overlap\n",
        "plt.show()\n",
        "\n",
        "# Calculate the most common tag and the majority label accuracy\n",
        "most_common_tag, most_common_tag_count = pos_tag_counter.most_common(1)[0]\n",
        "total_tags = sum(pos_tag_counter.values())\n",
        "majority_label_accuracy = most_common_tag_count / total_tags\n",
        "\n",
        "# Output the most common tag and the accuracy\n",
        "print(f'Most common tag: {most_common_tag} with a frequency of {most_common_tag_count}')\n",
        "print(f'Majority baseline accuracy: {majority_label_accuracy:.2f}')\n"
      ],
      "metadata": {
        "colab": {
          "base_uri": "https://localhost:8080/",
          "height": 595
        },
        "id": "y5TV3sptFFLW",
        "outputId": "f3035524-99c1-465f-9b61-c81a36bf2121"
      },
      "execution_count": 15,
      "outputs": [
        {
          "output_type": "stream",
          "name": "stderr",
          "text": [
            "/usr/local/lib/python3.10/dist-packages/torch/utils/data/backward_compatibility.py:4: UserWarning: Usage of backward_compatibility.worker_init_fn is deprecated as DataLoader automatically applies sharding in every worker\n",
            "  warnings.warn(\"Usage of backward_compatibility.worker_init_fn is deprecated\"\n"
          ]
        },
        {
          "output_type": "display_data",
          "data": {
            "text/plain": [
              "<Figure size 1000x500 with 1 Axes>"
            ],
            "image/png": "[encoded data removed]"
          },
          "metadata": {}
        },
        {
          "output_type": "stream",
          "name": "stdout",
          "text": [
            "Most common tag: NOUN with a frequency of 34768\n",
            "Majority baseline accuracy: 0.17\n"
          ]
        }
      ]
    }
  ]
}